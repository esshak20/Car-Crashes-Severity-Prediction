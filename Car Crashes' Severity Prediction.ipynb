{
 "cells": [
  {
   "cell_type": "markdown",
   "id": "53a7fc72",
   "metadata": {
    "papermill": {
     "duration": 0.01857,
     "end_time": "2021-07-27T11:01:56.821069",
     "exception": false,
     "start_time": "2021-07-27T11:01:56.802499",
     "status": "completed"
    },
    "tags": []
   },
   "source": [
    "## You're here! \n",
    "Welcome to your first competition in the [ITI's AI Pro training program](https://ai.iti.gov.eg/epita/ai-engineer/)! We hope you enjoy and learn as much as we did prepairing this competition.\n",
    "\n",
    "\n",
    "## Introduction\n",
    "\n",
    "In the competition, it's required to predict the `Severity` of a car crash given info about the crash, e.g., location.\n",
    "\n",
    "This is the getting started notebook. Things are kept simple so that it's easier to understand the steps and modify it.\n",
    "\n",
    "Feel free to `Fork` this notebook and share it with your modifications **OR** use it to create your submissions.\n",
    "\n",
    "### Prerequisites\n",
    "You should know how to use python and a little bit of Machine Learning. You can apply the techniques you learned in the training program and submit the new solutions! \n",
    "\n",
    "### Checklist\n",
    "You can participate in this competition the way you perefer. However, I recommend following these steps if this is your first time joining a competition on Kaggle.\n",
    "\n",
    "* Fork this notebook and run the cells in order.\n",
    "* Submit this solution.\n",
    "* Make changes to the data processing step as you see fit.\n",
    "* Submit the new solutions.\n",
    "\n",
    "*You can submit up to 5 submissions per day. You can select only one of the submission you make to be considered in the final ranking.*\n",
    "\n",
    "\n",
    "Don't hesitate to leave a comment or contact me if you have any question!"
   ]
  },
  {
   "cell_type": "markdown",
   "id": "759ee966",
   "metadata": {
    "papermill": {
     "duration": 0.018993,
     "end_time": "2021-07-27T11:01:56.858774",
     "exception": false,
     "start_time": "2021-07-27T11:01:56.839781",
     "status": "completed"
    },
    "tags": []
   },
   "source": [
    "## Import the libraries\n",
    "\n",
    "We'll use `pandas` to load and manipulate the data. Other libraries will be imported in the relevant sections."
   ]
  },
  {
   "cell_type": "code",
   "execution_count": 1,
   "id": "d3591bfc",
   "metadata": {
    "_cell_guid": "b1076dfc-b9ad-4769-8c92-a6c4dae69d19",
    "_uuid": "8f2839f25d086af736a60e9eeb907d3b93b6e0e5",
    "execution": {
     "iopub.execute_input": "2021-07-27T11:01:56.900225Z",
     "iopub.status.busy": "2021-07-27T11:01:56.898967Z",
     "iopub.status.idle": "2021-07-27T11:01:56.908859Z",
     "shell.execute_reply": "2021-07-27T11:01:56.909376Z",
     "shell.execute_reply.started": "2021-07-27T11:01:01.054725Z"
    },
    "papermill": {
     "duration": 0.031934,
     "end_time": "2021-07-27T11:01:56.909737",
     "exception": false,
     "start_time": "2021-07-27T11:01:56.877803",
     "status": "completed"
    },
    "tags": []
   },
   "outputs": [],
   "source": [
    "import pandas as pd\n",
    "import os"
   ]
  },
  {
   "cell_type": "markdown",
   "id": "24adc96b",
   "metadata": {
    "papermill": {
     "duration": 0.017225,
     "end_time": "2021-07-27T11:01:56.944428",
     "exception": false,
     "start_time": "2021-07-27T11:01:56.927203",
     "status": "completed"
    },
    "tags": []
   },
   "source": [
    "## Exploratory Data Analysis\n",
    "In this step, one should load the data and analyze it. However, I'll load the data and do minimal analysis. You are encouraged to do thorough analysis!\n",
    "\n",
    "Let's load the data using `pandas` and have a look at the generated `DataFrame`."
   ]
  },
  {
   "cell_type": "code",
   "execution_count": 2,
   "id": "fe548612",
   "metadata": {
    "execution": {
     "iopub.execute_input": "2021-07-27T11:01:56.988562Z",
     "iopub.status.busy": "2021-07-27T11:01:56.987544Z",
     "iopub.status.idle": "2021-07-27T11:01:57.186795Z",
     "shell.execute_reply": "2021-07-27T11:01:57.187300Z",
     "shell.execute_reply.started": "2021-07-27T11:01:01.073770Z"
    },
    "papermill": {
     "duration": 0.225129,
     "end_time": "2021-07-27T11:01:57.187501",
     "exception": false,
     "start_time": "2021-07-27T11:01:56.962372",
     "status": "completed"
    },
    "tags": []
   },
   "outputs": [
    {
     "name": "stdout",
     "output_type": "stream",
     "text": [
      "The shape of the dataset is (6407, 16).\n",
      "\n",
      "\n"
     ]
    },
    {
     "data": {
      "text/html": [
       "<div>\n",
       "<style scoped>\n",
       "    .dataframe tbody tr th:only-of-type {\n",
       "        vertical-align: middle;\n",
       "    }\n",
       "\n",
       "    .dataframe tbody tr th {\n",
       "        vertical-align: top;\n",
       "    }\n",
       "\n",
       "    .dataframe thead th {\n",
       "        text-align: right;\n",
       "    }\n",
       "</style>\n",
       "<table border=\"1\" class=\"dataframe\">\n",
       "  <thead>\n",
       "    <tr style=\"text-align: right;\">\n",
       "      <th></th>\n",
       "      <th>ID</th>\n",
       "      <th>Lat</th>\n",
       "      <th>Lng</th>\n",
       "      <th>Bump</th>\n",
       "      <th>Distance(mi)</th>\n",
       "      <th>Crossing</th>\n",
       "      <th>Give_Way</th>\n",
       "      <th>Junction</th>\n",
       "      <th>No_Exit</th>\n",
       "      <th>Railway</th>\n",
       "      <th>Roundabout</th>\n",
       "      <th>Stop</th>\n",
       "      <th>Amenity</th>\n",
       "      <th>Side</th>\n",
       "      <th>Severity</th>\n",
       "      <th>timestamp</th>\n",
       "    </tr>\n",
       "  </thead>\n",
       "  <tbody>\n",
       "    <tr>\n",
       "      <th>0</th>\n",
       "      <td>0</td>\n",
       "      <td>37.762150</td>\n",
       "      <td>-122.405660</td>\n",
       "      <td>False</td>\n",
       "      <td>0.044</td>\n",
       "      <td>False</td>\n",
       "      <td>False</td>\n",
       "      <td>False</td>\n",
       "      <td>False</td>\n",
       "      <td>False</td>\n",
       "      <td>False</td>\n",
       "      <td>False</td>\n",
       "      <td>True</td>\n",
       "      <td>R</td>\n",
       "      <td>2</td>\n",
       "      <td>2016-03-25 15:13:02</td>\n",
       "    </tr>\n",
       "    <tr>\n",
       "      <th>1</th>\n",
       "      <td>1</td>\n",
       "      <td>37.719157</td>\n",
       "      <td>-122.448254</td>\n",
       "      <td>False</td>\n",
       "      <td>0.000</td>\n",
       "      <td>False</td>\n",
       "      <td>False</td>\n",
       "      <td>False</td>\n",
       "      <td>False</td>\n",
       "      <td>False</td>\n",
       "      <td>False</td>\n",
       "      <td>False</td>\n",
       "      <td>False</td>\n",
       "      <td>R</td>\n",
       "      <td>2</td>\n",
       "      <td>2020-05-05 19:23:00</td>\n",
       "    </tr>\n",
       "    <tr>\n",
       "      <th>2</th>\n",
       "      <td>2</td>\n",
       "      <td>37.808498</td>\n",
       "      <td>-122.366852</td>\n",
       "      <td>False</td>\n",
       "      <td>0.000</td>\n",
       "      <td>False</td>\n",
       "      <td>False</td>\n",
       "      <td>False</td>\n",
       "      <td>False</td>\n",
       "      <td>False</td>\n",
       "      <td>False</td>\n",
       "      <td>True</td>\n",
       "      <td>False</td>\n",
       "      <td>R</td>\n",
       "      <td>3</td>\n",
       "      <td>2016-09-16 19:57:16</td>\n",
       "    </tr>\n",
       "    <tr>\n",
       "      <th>3</th>\n",
       "      <td>3</td>\n",
       "      <td>37.785930</td>\n",
       "      <td>-122.391080</td>\n",
       "      <td>False</td>\n",
       "      <td>0.009</td>\n",
       "      <td>False</td>\n",
       "      <td>False</td>\n",
       "      <td>True</td>\n",
       "      <td>False</td>\n",
       "      <td>False</td>\n",
       "      <td>False</td>\n",
       "      <td>False</td>\n",
       "      <td>False</td>\n",
       "      <td>R</td>\n",
       "      <td>1</td>\n",
       "      <td>2020-03-29 19:48:43</td>\n",
       "    </tr>\n",
       "    <tr>\n",
       "      <th>4</th>\n",
       "      <td>4</td>\n",
       "      <td>37.719141</td>\n",
       "      <td>-122.448457</td>\n",
       "      <td>False</td>\n",
       "      <td>0.000</td>\n",
       "      <td>False</td>\n",
       "      <td>False</td>\n",
       "      <td>False</td>\n",
       "      <td>False</td>\n",
       "      <td>False</td>\n",
       "      <td>False</td>\n",
       "      <td>False</td>\n",
       "      <td>False</td>\n",
       "      <td>R</td>\n",
       "      <td>2</td>\n",
       "      <td>2019-10-09 08:47:00</td>\n",
       "    </tr>\n",
       "  </tbody>\n",
       "</table>\n",
       "</div>"
      ],
      "text/plain": [
       "   ID        Lat         Lng   Bump  Distance(mi)  Crossing  Give_Way  \\\n",
       "0   0  37.762150 -122.405660  False         0.044     False     False   \n",
       "1   1  37.719157 -122.448254  False         0.000     False     False   \n",
       "2   2  37.808498 -122.366852  False         0.000     False     False   \n",
       "3   3  37.785930 -122.391080  False         0.009     False     False   \n",
       "4   4  37.719141 -122.448457  False         0.000     False     False   \n",
       "\n",
       "   Junction  No_Exit  Railway  Roundabout   Stop  Amenity Side  Severity  \\\n",
       "0     False    False    False       False  False     True    R         2   \n",
       "1     False    False    False       False  False    False    R         2   \n",
       "2     False    False    False       False   True    False    R         3   \n",
       "3      True    False    False       False  False    False    R         1   \n",
       "4     False    False    False       False  False    False    R         2   \n",
       "\n",
       "             timestamp  \n",
       "0  2016-03-25 15:13:02  \n",
       "1  2020-05-05 19:23:00  \n",
       "2  2016-09-16 19:57:16  \n",
       "3  2020-03-29 19:48:43  \n",
       "4  2019-10-09 08:47:00  "
      ]
     },
     "execution_count": 2,
     "metadata": {},
     "output_type": "execute_result"
    }
   ],
   "source": [
    "dataset_path = '/kaggle/input/car-crashes-severity-prediction/'\n",
    "\n",
    "df = pd.read_csv(os.path.join(dataset_path, 'train.csv'))\n",
    "\n",
    "print(\"The shape of the dataset is {}.\\n\\n\".format(df.shape))\n",
    "\n",
    "df.head()"
   ]
  },
  {
   "cell_type": "code",
   "execution_count": 3,
   "id": "ea8bb8f1",
   "metadata": {
    "execution": {
     "iopub.execute_input": "2021-07-27T11:01:57.227980Z",
     "iopub.status.busy": "2021-07-27T11:01:57.226949Z",
     "iopub.status.idle": "2021-07-27T11:01:57.347251Z",
     "shell.execute_reply": "2021-07-27T11:01:57.346505Z",
     "shell.execute_reply.started": "2021-07-27T11:01:01.123638Z"
    },
    "papermill": {
     "duration": 0.141496,
     "end_time": "2021-07-27T11:01:57.347408",
     "exception": false,
     "start_time": "2021-07-27T11:01:57.205912",
     "status": "completed"
    },
    "tags": []
   },
   "outputs": [
    {
     "data": {
      "text/html": [
       "<div>\n",
       "<style scoped>\n",
       "    .dataframe tbody tr th:only-of-type {\n",
       "        vertical-align: middle;\n",
       "    }\n",
       "\n",
       "    .dataframe tbody tr th {\n",
       "        vertical-align: top;\n",
       "    }\n",
       "\n",
       "    .dataframe thead th {\n",
       "        text-align: right;\n",
       "    }\n",
       "</style>\n",
       "<table border=\"1\" class=\"dataframe\">\n",
       "  <thead>\n",
       "    <tr style=\"text-align: right;\">\n",
       "      <th></th>\n",
       "      <th>Temperature(F)</th>\n",
       "      <th>Humidity(%)</th>\n",
       "      <th>Wind_Speed(mph)</th>\n",
       "      <th>Visibility(mi)</th>\n",
       "      <th>date</th>\n",
       "      <th>time</th>\n",
       "    </tr>\n",
       "  </thead>\n",
       "  <tbody>\n",
       "    <tr>\n",
       "      <th>1053</th>\n",
       "      <td>61.0</td>\n",
       "      <td>62.0</td>\n",
       "      <td>20.7</td>\n",
       "      <td>10.0</td>\n",
       "      <td>2016-03-23</td>\n",
       "      <td>16</td>\n",
       "    </tr>\n",
       "    <tr>\n",
       "      <th>3329</th>\n",
       "      <td>59.0</td>\n",
       "      <td>67.0</td>\n",
       "      <td>12.7</td>\n",
       "      <td>10.0</td>\n",
       "      <td>2016-03-23</td>\n",
       "      <td>20</td>\n",
       "    </tr>\n",
       "    <tr>\n",
       "      <th>3813</th>\n",
       "      <td>55.0</td>\n",
       "      <td>80.0</td>\n",
       "      <td>6.9</td>\n",
       "      <td>10.0</td>\n",
       "      <td>2016-03-24</td>\n",
       "      <td>8</td>\n",
       "    </tr>\n",
       "    <tr>\n",
       "      <th>401</th>\n",
       "      <td>55.9</td>\n",
       "      <td>77.0</td>\n",
       "      <td>3.5</td>\n",
       "      <td>10.0</td>\n",
       "      <td>2016-03-24</td>\n",
       "      <td>9</td>\n",
       "    </tr>\n",
       "    <tr>\n",
       "      <th>2890</th>\n",
       "      <td>57.0</td>\n",
       "      <td>83.0</td>\n",
       "      <td>20.7</td>\n",
       "      <td>10.0</td>\n",
       "      <td>2016-03-24</td>\n",
       "      <td>19</td>\n",
       "    </tr>\n",
       "  </tbody>\n",
       "</table>\n",
       "</div>"
      ],
      "text/plain": [
       "      Temperature(F)  Humidity(%)  Wind_Speed(mph)  Visibility(mi)  \\\n",
       "1053            61.0         62.0             20.7            10.0   \n",
       "3329            59.0         67.0             12.7            10.0   \n",
       "3813            55.0         80.0              6.9            10.0   \n",
       "401             55.9         77.0              3.5            10.0   \n",
       "2890            57.0         83.0             20.7            10.0   \n",
       "\n",
       "            date  time  \n",
       "1053  2016-03-23    16  \n",
       "3329  2016-03-23    20  \n",
       "3813  2016-03-24     8  \n",
       "401   2016-03-24     9  \n",
       "2890  2016-03-24    19  "
      ]
     },
     "execution_count": 3,
     "metadata": {},
     "output_type": "execute_result"
    }
   ],
   "source": [
    "weather_df = pd.read_csv(os.path.join(dataset_path, 'weather-sfcsv.csv'))\n",
    "weather_df[\"date\"] = pd.to_datetime(weather_df[[\"Year\",\"Day\",\"Month\",\"Hour\"]]).dt.date\n",
    "weather_df[\"time\"] = pd.to_datetime(weather_df[[\"Year\",\"Day\",\"Month\",\"Hour\"]]).dt.hour\n",
    "# weather_df[\"timestamp\"] = pd.to_datetime(weather_df[[\"Year\",\"Day\",\"Month\",\"Hour\"]])\n",
    "weather_df = weather_df.drop(columns = ['Year','Day','Month','Hour'])\n",
    "weather_df = weather_df.sort_values(by=['date'])\n",
    "# weather_df['timestamp']=pd.Series(weather_df['timestamp']).dt.round(\"6H\")\n",
    "\n",
    "weather_df=weather_df.drop(columns=['Precipitation(in)','Selected'])\n",
    "weather_df=weather_df.drop(columns=['Weather_Condition','Wind_Chill(F)'])\n",
    "weather_df.dropna(subset = ['Wind_Speed(mph)','Visibility(mi)','Humidity(%)','Temperature(F)'],inplace=True)\n",
    "# weather_df=weather_df.groupby(by=[\"timestamp\"]).mean()\n",
    "weather_df.drop_duplicates(subset = [\"date\",\"time\"], keep='first', inplace=True)\n",
    "weather_df.head()"
   ]
  },
  {
   "cell_type": "code",
   "execution_count": 4,
   "id": "9188a73b",
   "metadata": {
    "execution": {
     "iopub.execute_input": "2021-07-27T11:01:57.388646Z",
     "iopub.status.busy": "2021-07-27T11:01:57.387683Z",
     "iopub.status.idle": "2021-07-27T11:01:57.409083Z",
     "shell.execute_reply": "2021-07-27T11:01:57.409604Z",
     "shell.execute_reply.started": "2021-07-27T11:01:01.214553Z"
    },
    "papermill": {
     "duration": 0.043414,
     "end_time": "2021-07-27T11:01:57.409793",
     "exception": false,
     "start_time": "2021-07-27T11:01:57.366379",
     "status": "completed"
    },
    "tags": []
   },
   "outputs": [],
   "source": [
    "import xml.etree.ElementTree as ET\n",
    "path=os.path.join(dataset_path, 'holidays.xml')\n",
    "xml_data = open(path, 'r').read()  # Read file\n",
    "root = ET.XML(xml_data)\n",
    "data = []\n",
    "cols = []\n",
    "for i, child in enumerate(root):\n",
    "    data.append([subchild.text for subchild in child])\n",
    "    cols.append(child.tag)\n",
    "\n",
    "dfHol = pd.DataFrame(data).T  # Write in DF and transpose it\n",
    "\n",
    "#dfHol.columns = cols  # Update column names\n",
    "\n",
    "\n",
    "dfHol=dfHol.T\n",
    "dfHol.columns=['date','holiday']\n",
    "\n",
    "dfHol['date']=pd.to_datetime(dfHol['date']).dt.date"
   ]
  },
  {
   "cell_type": "code",
   "execution_count": 5,
   "id": "e9170715",
   "metadata": {
    "execution": {
     "iopub.execute_input": "2021-07-27T11:01:57.450647Z",
     "iopub.status.busy": "2021-07-27T11:01:57.449693Z",
     "iopub.status.idle": "2021-07-27T11:01:57.528824Z",
     "shell.execute_reply": "2021-07-27T11:01:57.528251Z",
     "shell.execute_reply.started": "2021-07-27T11:01:01.235136Z"
    },
    "papermill": {
     "duration": 0.100527,
     "end_time": "2021-07-27T11:01:57.528967",
     "exception": false,
     "start_time": "2021-07-27T11:01:57.428440",
     "status": "completed"
    },
    "tags": []
   },
   "outputs": [],
   "source": [
    "\n",
    "def dataPrep(df):\n",
    "    df['timestamp']=pd.to_datetime(df['timestamp'])\n",
    "    df['date']=df['timestamp'].dt.date\n",
    "    df['time']=df['timestamp'].dt.hour\n",
    "    dfAll=pd.merge(df,dfHol,how='left' ,on='date')\n",
    "    dfAll=dfAll.drop(columns=['Bump','Roundabout','No_Exit','Give_Way'])\n",
    "    dfAll['holiday'].fillna(0,inplace=True)\n",
    "    dfAll['holiday']=dfAll['holiday'].apply(lambda x: 1 if x != 0 else x)\n",
    "    dfAll.replace({False: 0, True: 1}, inplace=True)\n",
    "    dfAll.replace({'R': 0, 'L': 1}, inplace=True)\n",
    "    dfAll.drop_duplicates(subset = [\"ID\"], keep='first', inplace=True)\n",
    "    dfAll=pd.merge(dfAll,weather_df,how='left' ,on=['date','time'])\n",
    "    #dfAll.dropna(subset = ['Wind_Speed(mph)','Visibility(mi)','Humidity(%)','Temperature(F)'],inplace=True)\n",
    "    dfAll.drop(columns='timestamp',inplace=True)\n",
    "    dfAll['date']=pd.DatetimeIndex(dfAll['date']).year\n",
    "    dfAll.fillna((dfAll.mean()), inplace=True)\n",
    "    return dfAll\n",
    "    \n",
    "df = dataPrep(df)\n",
    "\n",
    "\n",
    "\n",
    "\n",
    "\n",
    "   \n",
    "\n",
    "\n",
    "\n",
    "\n",
    "\n",
    "\n",
    "\n"
   ]
  },
  {
   "cell_type": "markdown",
   "id": "62920807",
   "metadata": {
    "papermill": {
     "duration": 0.018307,
     "end_time": "2021-07-27T11:01:57.566043",
     "exception": false,
     "start_time": "2021-07-27T11:01:57.547736",
     "status": "completed"
    },
    "tags": []
   },
   "source": [
    "We've got 6407 examples in the dataset with 14 featues, 1 ID, and the `Severity` of the crash.\n",
    "\n",
    "By looking at the features and a sample from the data, the features look of numerical and catogerical types. What about some descriptive statistics?"
   ]
  },
  {
   "cell_type": "markdown",
   "id": "6ef7343e",
   "metadata": {
    "papermill": {
     "duration": 0.018216,
     "end_time": "2021-07-27T11:01:57.602966",
     "exception": false,
     "start_time": "2021-07-27T11:01:57.584750",
     "status": "completed"
    },
    "tags": []
   },
   "source": [
    "The output shows desciptive statistics for the numerical features, `Lat`, `Lng`, `Distance(mi)`, and `Severity`. I'll use the numerical features to demonstrate how to train the model and make submissions. **However you shouldn't use the numerical features only to make the final submission if you want to make it to the top of the leaderboard.**"
   ]
  },
  {
   "cell_type": "markdown",
   "id": "f00aac46",
   "metadata": {
    "papermill": {
     "duration": 0.0182,
     "end_time": "2021-07-27T11:01:57.639910",
     "exception": false,
     "start_time": "2021-07-27T11:01:57.621710",
     "status": "completed"
    },
    "tags": []
   },
   "source": [
    "## Data Splitting\n",
    "\n",
    "Now it's time to split the dataset for the training step. Typically the dataset is split into 3 subsets, namely, the training, validation and test sets. In our case, the test set is already predefined. So we'll split the \"training\" set into training and validation sets with 0.8:0.2 ratio. \n",
    "\n",
    "*Note: a good way to generate reproducible results is to set the seed to the algorithms that depends on randomization. This is done with the argument `random_state` in the following command* "
   ]
  },
  {
   "cell_type": "code",
   "execution_count": 6,
   "id": "3681f369",
   "metadata": {
    "execution": {
     "iopub.execute_input": "2021-07-27T11:01:57.683221Z",
     "iopub.status.busy": "2021-07-27T11:01:57.682443Z",
     "iopub.status.idle": "2021-07-27T11:01:58.655345Z",
     "shell.execute_reply": "2021-07-27T11:01:58.655917Z",
     "shell.execute_reply.started": "2021-07-27T11:01:01.313864Z"
    },
    "papermill": {
     "duration": 0.997579,
     "end_time": "2021-07-27T11:01:58.656105",
     "exception": false,
     "start_time": "2021-07-27T11:01:57.658526",
     "status": "completed"
    },
    "tags": []
   },
   "outputs": [],
   "source": [
    "from sklearn.model_selection import train_test_split\n",
    "\n",
    "train_df, val_df = train_test_split(df, test_size=0.2, random_state=42) # Try adding `stratify` here\n",
    "\n",
    "X_train = train_df.drop(columns=['ID', 'Severity'])\n",
    "y_train = train_df['Severity']\n",
    "\n",
    "X_val = val_df.drop(columns=['ID', 'Severity'])\n",
    "y_val = val_df['Severity']\n"
   ]
  },
  {
   "cell_type": "markdown",
   "id": "988b07b9",
   "metadata": {
    "papermill": {
     "duration": 0.018293,
     "end_time": "2021-07-27T11:01:58.692976",
     "exception": false,
     "start_time": "2021-07-27T11:01:58.674683",
     "status": "completed"
    },
    "tags": []
   },
   "source": [
    "As pointed out eariler, I'll use the numerical features to train the classifier. **However, you shouldn't use the numerical features only to make the final submission if you want to make it to the top of the leaderboard.** "
   ]
  },
  {
   "cell_type": "markdown",
   "id": "7d412d99",
   "metadata": {
    "papermill": {
     "duration": 0.018065,
     "end_time": "2021-07-27T11:01:58.729441",
     "exception": false,
     "start_time": "2021-07-27T11:01:58.711376",
     "status": "completed"
    },
    "tags": []
   },
   "source": [
    "## Model Training\n",
    "\n",
    "Let's train a model with the data! We'll train a Random Forest Classifier to demonstrate the process of making submissions. "
   ]
  },
  {
   "cell_type": "code",
   "execution_count": 7,
   "id": "35373078",
   "metadata": {
    "execution": {
     "iopub.execute_input": "2021-07-27T11:01:58.772246Z",
     "iopub.status.busy": "2021-07-27T11:01:58.771557Z",
     "iopub.status.idle": "2021-07-27T11:01:59.323609Z",
     "shell.execute_reply": "2021-07-27T11:01:59.323048Z",
     "shell.execute_reply.started": "2021-07-27T11:01:01.328095Z"
    },
    "papermill": {
     "duration": 0.576082,
     "end_time": "2021-07-27T11:01:59.323761",
     "exception": false,
     "start_time": "2021-07-27T11:01:58.747679",
     "status": "completed"
    },
    "tags": []
   },
   "outputs": [],
   "source": [
    "from sklearn.ensemble import RandomForestClassifier\n",
    "\n",
    "# Create an instance of the classifier\n",
    "classifier = RandomForestClassifier(max_depth=2, random_state=0)\n",
    "\n",
    "# Train the classifier\n",
    "classifier = classifier.fit(X_train, y_train)"
   ]
  },
  {
   "cell_type": "markdown",
   "id": "255f9374",
   "metadata": {
    "papermill": {
     "duration": 0.018481,
     "end_time": "2021-07-27T11:01:59.360906",
     "exception": false,
     "start_time": "2021-07-27T11:01:59.342425",
     "status": "completed"
    },
    "tags": []
   },
   "source": [
    "Now let's test our classifier on the validation dataset and see the accuracy."
   ]
  },
  {
   "cell_type": "code",
   "execution_count": 8,
   "id": "b5b632e2",
   "metadata": {
    "execution": {
     "iopub.execute_input": "2021-07-27T11:01:59.406197Z",
     "iopub.status.busy": "2021-07-27T11:01:59.405442Z",
     "iopub.status.idle": "2021-07-27T11:01:59.429584Z",
     "shell.execute_reply": "2021-07-27T11:01:59.428758Z",
     "shell.execute_reply.started": "2021-07-27T11:01:01.663033Z"
    },
    "papermill": {
     "duration": 0.050139,
     "end_time": "2021-07-27T11:01:59.429793",
     "exception": false,
     "start_time": "2021-07-27T11:01:59.379654",
     "status": "completed"
    },
    "tags": []
   },
   "outputs": [
    {
     "name": "stdout",
     "output_type": "stream",
     "text": [
      "The accuracy of the classifier on the validation set is  0.7457098283931357\n"
     ]
    }
   ],
   "source": [
    "print(\"The accuracy of the classifier on the validation set is \", (classifier.score(X_val, y_val)))"
   ]
  },
  {
   "cell_type": "markdown",
   "id": "38cbdd4b",
   "metadata": {
    "papermill": {
     "duration": 0.018682,
     "end_time": "2021-07-27T11:01:59.468473",
     "exception": false,
     "start_time": "2021-07-27T11:01:59.449791",
     "status": "completed"
    },
    "tags": []
   },
   "source": [
    "Well. That's a good start, right? A classifier that predicts all examples' `Severity` as 2 will get around 0.63. You should get better score as you add more features and do better data preprocessing."
   ]
  },
  {
   "cell_type": "markdown",
   "id": "61ea8e3c",
   "metadata": {
    "papermill": {
     "duration": 0.01915,
     "end_time": "2021-07-27T11:01:59.506716",
     "exception": false,
     "start_time": "2021-07-27T11:01:59.487566",
     "status": "completed"
    },
    "tags": []
   },
   "source": [
    "## Submission File Generation\n",
    "\n",
    "We have built a model and we'd like to submit our predictions on the test set! In order to do that, we'll load the test set, predict the class and save the submission file. \n",
    "\n",
    "First, we'll load the data."
   ]
  },
  {
   "cell_type": "code",
   "execution_count": 9,
   "id": "79e4f7b9",
   "metadata": {
    "execution": {
     "iopub.execute_input": "2021-07-27T11:01:59.550529Z",
     "iopub.status.busy": "2021-07-27T11:01:59.549857Z",
     "iopub.status.idle": "2021-07-27T11:01:59.584442Z",
     "shell.execute_reply": "2021-07-27T11:01:59.584976Z",
     "shell.execute_reply.started": "2021-07-27T11:01:01.692741Z"
    },
    "papermill": {
     "duration": 0.059462,
     "end_time": "2021-07-27T11:01:59.585167",
     "exception": false,
     "start_time": "2021-07-27T11:01:59.525705",
     "status": "completed"
    },
    "tags": []
   },
   "outputs": [
    {
     "data": {
      "text/html": [
       "<div>\n",
       "<style scoped>\n",
       "    .dataframe tbody tr th:only-of-type {\n",
       "        vertical-align: middle;\n",
       "    }\n",
       "\n",
       "    .dataframe tbody tr th {\n",
       "        vertical-align: top;\n",
       "    }\n",
       "\n",
       "    .dataframe thead th {\n",
       "        text-align: right;\n",
       "    }\n",
       "</style>\n",
       "<table border=\"1\" class=\"dataframe\">\n",
       "  <thead>\n",
       "    <tr style=\"text-align: right;\">\n",
       "      <th></th>\n",
       "      <th>ID</th>\n",
       "      <th>Lat</th>\n",
       "      <th>Lng</th>\n",
       "      <th>Bump</th>\n",
       "      <th>Distance(mi)</th>\n",
       "      <th>Crossing</th>\n",
       "      <th>Give_Way</th>\n",
       "      <th>Junction</th>\n",
       "      <th>No_Exit</th>\n",
       "      <th>Railway</th>\n",
       "      <th>Roundabout</th>\n",
       "      <th>Stop</th>\n",
       "      <th>Amenity</th>\n",
       "      <th>Side</th>\n",
       "      <th>timestamp</th>\n",
       "    </tr>\n",
       "  </thead>\n",
       "  <tbody>\n",
       "    <tr>\n",
       "      <th>0</th>\n",
       "      <td>6407</td>\n",
       "      <td>37.786060</td>\n",
       "      <td>-122.390900</td>\n",
       "      <td>False</td>\n",
       "      <td>0.039</td>\n",
       "      <td>False</td>\n",
       "      <td>False</td>\n",
       "      <td>True</td>\n",
       "      <td>False</td>\n",
       "      <td>False</td>\n",
       "      <td>False</td>\n",
       "      <td>False</td>\n",
       "      <td>False</td>\n",
       "      <td>R</td>\n",
       "      <td>2016-04-04 19:20:31</td>\n",
       "    </tr>\n",
       "    <tr>\n",
       "      <th>1</th>\n",
       "      <td>6408</td>\n",
       "      <td>37.769609</td>\n",
       "      <td>-122.415057</td>\n",
       "      <td>False</td>\n",
       "      <td>0.202</td>\n",
       "      <td>False</td>\n",
       "      <td>False</td>\n",
       "      <td>False</td>\n",
       "      <td>False</td>\n",
       "      <td>False</td>\n",
       "      <td>False</td>\n",
       "      <td>False</td>\n",
       "      <td>False</td>\n",
       "      <td>R</td>\n",
       "      <td>2020-10-28 11:51:00</td>\n",
       "    </tr>\n",
       "    <tr>\n",
       "      <th>2</th>\n",
       "      <td>6409</td>\n",
       "      <td>37.807495</td>\n",
       "      <td>-122.476021</td>\n",
       "      <td>False</td>\n",
       "      <td>0.000</td>\n",
       "      <td>False</td>\n",
       "      <td>False</td>\n",
       "      <td>False</td>\n",
       "      <td>False</td>\n",
       "      <td>False</td>\n",
       "      <td>False</td>\n",
       "      <td>False</td>\n",
       "      <td>False</td>\n",
       "      <td>R</td>\n",
       "      <td>2019-09-09 07:36:45</td>\n",
       "    </tr>\n",
       "    <tr>\n",
       "      <th>3</th>\n",
       "      <td>6410</td>\n",
       "      <td>37.761818</td>\n",
       "      <td>-122.405869</td>\n",
       "      <td>False</td>\n",
       "      <td>0.000</td>\n",
       "      <td>False</td>\n",
       "      <td>False</td>\n",
       "      <td>True</td>\n",
       "      <td>False</td>\n",
       "      <td>False</td>\n",
       "      <td>False</td>\n",
       "      <td>False</td>\n",
       "      <td>False</td>\n",
       "      <td>R</td>\n",
       "      <td>2019-08-06 15:46:25</td>\n",
       "    </tr>\n",
       "    <tr>\n",
       "      <th>4</th>\n",
       "      <td>6411</td>\n",
       "      <td>37.732350</td>\n",
       "      <td>-122.414100</td>\n",
       "      <td>False</td>\n",
       "      <td>0.670</td>\n",
       "      <td>False</td>\n",
       "      <td>False</td>\n",
       "      <td>False</td>\n",
       "      <td>False</td>\n",
       "      <td>False</td>\n",
       "      <td>False</td>\n",
       "      <td>False</td>\n",
       "      <td>False</td>\n",
       "      <td>R</td>\n",
       "      <td>2018-10-17 09:54:58</td>\n",
       "    </tr>\n",
       "  </tbody>\n",
       "</table>\n",
       "</div>"
      ],
      "text/plain": [
       "     ID        Lat         Lng   Bump  Distance(mi)  Crossing  Give_Way  \\\n",
       "0  6407  37.786060 -122.390900  False         0.039     False     False   \n",
       "1  6408  37.769609 -122.415057  False         0.202     False     False   \n",
       "2  6409  37.807495 -122.476021  False         0.000     False     False   \n",
       "3  6410  37.761818 -122.405869  False         0.000     False     False   \n",
       "4  6411  37.732350 -122.414100  False         0.670     False     False   \n",
       "\n",
       "   Junction  No_Exit  Railway  Roundabout   Stop  Amenity Side  \\\n",
       "0      True    False    False       False  False    False    R   \n",
       "1     False    False    False       False  False    False    R   \n",
       "2     False    False    False       False  False    False    R   \n",
       "3      True    False    False       False  False    False    R   \n",
       "4     False    False    False       False  False    False    R   \n",
       "\n",
       "             timestamp  \n",
       "0  2016-04-04 19:20:31  \n",
       "1  2020-10-28 11:51:00  \n",
       "2  2019-09-09 07:36:45  \n",
       "3  2019-08-06 15:46:25  \n",
       "4  2018-10-17 09:54:58  "
      ]
     },
     "execution_count": 9,
     "metadata": {},
     "output_type": "execute_result"
    }
   ],
   "source": [
    "test_df = pd.read_csv(os.path.join(dataset_path, 'test.csv'))\n",
    "test_df.head()"
   ]
  },
  {
   "cell_type": "markdown",
   "id": "4788ae95",
   "metadata": {
    "papermill": {
     "duration": 0.018992,
     "end_time": "2021-07-27T11:01:59.623624",
     "exception": false,
     "start_time": "2021-07-27T11:01:59.604632",
     "status": "completed"
    },
    "tags": []
   },
   "source": [
    "Note that the test set has the same features and doesn't have the `Severity` column.\n",
    "At this stage one must **NOT** forget to apply the same processing done on the training set on the features of the test set.\n",
    "\n",
    "Now we'll add `Severity` column to the test `DataFrame` and add the values of the predicted class to it.\n",
    "\n",
    "**I'll select the numerical features here as I did in the training set. DO NOT forget to change this step as you change the preprocessing of the training data.**"
   ]
  },
  {
   "cell_type": "code",
   "execution_count": 10,
   "id": "25ed7d22",
   "metadata": {
    "execution": {
     "iopub.execute_input": "2021-07-27T11:01:59.665512Z",
     "iopub.status.busy": "2021-07-27T11:01:59.664852Z",
     "iopub.status.idle": "2021-07-27T11:01:59.743873Z",
     "shell.execute_reply": "2021-07-27T11:01:59.744414Z",
     "shell.execute_reply.started": "2021-07-27T11:01:01.726818Z"
    },
    "papermill": {
     "duration": 0.101604,
     "end_time": "2021-07-27T11:01:59.744590",
     "exception": false,
     "start_time": "2021-07-27T11:01:59.642986",
     "status": "completed"
    },
    "tags": []
   },
   "outputs": [
    {
     "data": {
      "text/html": [
       "<div>\n",
       "<style scoped>\n",
       "    .dataframe tbody tr th:only-of-type {\n",
       "        vertical-align: middle;\n",
       "    }\n",
       "\n",
       "    .dataframe tbody tr th {\n",
       "        vertical-align: top;\n",
       "    }\n",
       "\n",
       "    .dataframe thead th {\n",
       "        text-align: right;\n",
       "    }\n",
       "</style>\n",
       "<table border=\"1\" class=\"dataframe\">\n",
       "  <thead>\n",
       "    <tr style=\"text-align: right;\">\n",
       "      <th></th>\n",
       "      <th>ID</th>\n",
       "      <th>Lat</th>\n",
       "      <th>Lng</th>\n",
       "      <th>Distance(mi)</th>\n",
       "      <th>Crossing</th>\n",
       "      <th>Junction</th>\n",
       "      <th>Railway</th>\n",
       "      <th>Stop</th>\n",
       "      <th>Amenity</th>\n",
       "      <th>Side</th>\n",
       "      <th>date</th>\n",
       "      <th>time</th>\n",
       "      <th>holiday</th>\n",
       "      <th>Temperature(F)</th>\n",
       "      <th>Humidity(%)</th>\n",
       "      <th>Wind_Speed(mph)</th>\n",
       "      <th>Visibility(mi)</th>\n",
       "      <th>Severity</th>\n",
       "    </tr>\n",
       "  </thead>\n",
       "  <tbody>\n",
       "    <tr>\n",
       "      <th>0</th>\n",
       "      <td>6407</td>\n",
       "      <td>37.786060</td>\n",
       "      <td>-122.390900</td>\n",
       "      <td>0.039</td>\n",
       "      <td>0</td>\n",
       "      <td>1</td>\n",
       "      <td>0</td>\n",
       "      <td>0</td>\n",
       "      <td>0</td>\n",
       "      <td>0</td>\n",
       "      <td>2016</td>\n",
       "      <td>19</td>\n",
       "      <td>0</td>\n",
       "      <td>63.0</td>\n",
       "      <td>60.0</td>\n",
       "      <td>10.4</td>\n",
       "      <td>10.0</td>\n",
       "      <td>2</td>\n",
       "    </tr>\n",
       "    <tr>\n",
       "      <th>1</th>\n",
       "      <td>6408</td>\n",
       "      <td>37.769609</td>\n",
       "      <td>-122.415057</td>\n",
       "      <td>0.202</td>\n",
       "      <td>0</td>\n",
       "      <td>0</td>\n",
       "      <td>0</td>\n",
       "      <td>0</td>\n",
       "      <td>0</td>\n",
       "      <td>0</td>\n",
       "      <td>2020</td>\n",
       "      <td>11</td>\n",
       "      <td>0</td>\n",
       "      <td>65.0</td>\n",
       "      <td>56.0</td>\n",
       "      <td>5.0</td>\n",
       "      <td>9.0</td>\n",
       "      <td>2</td>\n",
       "    </tr>\n",
       "    <tr>\n",
       "      <th>2</th>\n",
       "      <td>6409</td>\n",
       "      <td>37.807495</td>\n",
       "      <td>-122.476021</td>\n",
       "      <td>0.000</td>\n",
       "      <td>0</td>\n",
       "      <td>0</td>\n",
       "      <td>0</td>\n",
       "      <td>0</td>\n",
       "      <td>0</td>\n",
       "      <td>0</td>\n",
       "      <td>2019</td>\n",
       "      <td>7</td>\n",
       "      <td>0</td>\n",
       "      <td>57.0</td>\n",
       "      <td>87.0</td>\n",
       "      <td>3.0</td>\n",
       "      <td>6.0</td>\n",
       "      <td>2</td>\n",
       "    </tr>\n",
       "    <tr>\n",
       "      <th>3</th>\n",
       "      <td>6410</td>\n",
       "      <td>37.761818</td>\n",
       "      <td>-122.405869</td>\n",
       "      <td>0.000</td>\n",
       "      <td>0</td>\n",
       "      <td>1</td>\n",
       "      <td>0</td>\n",
       "      <td>0</td>\n",
       "      <td>0</td>\n",
       "      <td>0</td>\n",
       "      <td>2019</td>\n",
       "      <td>15</td>\n",
       "      <td>0</td>\n",
       "      <td>72.0</td>\n",
       "      <td>59.0</td>\n",
       "      <td>17.0</td>\n",
       "      <td>10.0</td>\n",
       "      <td>2</td>\n",
       "    </tr>\n",
       "    <tr>\n",
       "      <th>4</th>\n",
       "      <td>6411</td>\n",
       "      <td>37.732350</td>\n",
       "      <td>-122.414100</td>\n",
       "      <td>0.670</td>\n",
       "      <td>0</td>\n",
       "      <td>0</td>\n",
       "      <td>0</td>\n",
       "      <td>0</td>\n",
       "      <td>0</td>\n",
       "      <td>0</td>\n",
       "      <td>2018</td>\n",
       "      <td>9</td>\n",
       "      <td>0</td>\n",
       "      <td>57.0</td>\n",
       "      <td>77.0</td>\n",
       "      <td>5.8</td>\n",
       "      <td>10.0</td>\n",
       "      <td>2</td>\n",
       "    </tr>\n",
       "  </tbody>\n",
       "</table>\n",
       "</div>"
      ],
      "text/plain": [
       "     ID        Lat         Lng  Distance(mi)  Crossing  Junction  Railway  \\\n",
       "0  6407  37.786060 -122.390900         0.039         0         1        0   \n",
       "1  6408  37.769609 -122.415057         0.202         0         0        0   \n",
       "2  6409  37.807495 -122.476021         0.000         0         0        0   \n",
       "3  6410  37.761818 -122.405869         0.000         0         1        0   \n",
       "4  6411  37.732350 -122.414100         0.670         0         0        0   \n",
       "\n",
       "   Stop  Amenity  Side  date  time  holiday  Temperature(F)  Humidity(%)  \\\n",
       "0     0        0     0  2016    19        0            63.0         60.0   \n",
       "1     0        0     0  2020    11        0            65.0         56.0   \n",
       "2     0        0     0  2019     7        0            57.0         87.0   \n",
       "3     0        0     0  2019    15        0            72.0         59.0   \n",
       "4     0        0     0  2018     9        0            57.0         77.0   \n",
       "\n",
       "   Wind_Speed(mph)  Visibility(mi)  Severity  \n",
       "0             10.4            10.0         2  \n",
       "1              5.0             9.0         2  \n",
       "2              3.0             6.0         2  \n",
       "3             17.0            10.0         2  \n",
       "4              5.8            10.0         2  "
      ]
     },
     "execution_count": 10,
     "metadata": {},
     "output_type": "execute_result"
    }
   ],
   "source": [
    "test_df=dataPrep(test_df)\n",
    "\n",
    "X_test = test_df.drop(columns=['ID'])\n",
    "X_test\n",
    "#\n",
    "\n",
    "# You should update/remove the next line once you change the features used for training\n",
    "#X_test = X_test[['Lat', 'Lng', 'Distance(mi)']]\n",
    "#//\n",
    "y_test_predicted = classifier.predict(X_test)\n",
    "\n",
    "test_df['Severity'] = y_test_predicted\n",
    "\n",
    "test_df.head()"
   ]
  },
  {
   "cell_type": "markdown",
   "id": "061221a2",
   "metadata": {
    "papermill": {
     "duration": 0.019763,
     "end_time": "2021-07-27T11:01:59.784746",
     "exception": false,
     "start_time": "2021-07-27T11:01:59.764983",
     "status": "completed"
    },
    "tags": []
   },
   "source": [
    "Now we're ready to generate the submission file. The submission file needs the columns `ID` and `Severity` only."
   ]
  },
  {
   "cell_type": "code",
   "execution_count": 11,
   "id": "607539dd",
   "metadata": {
    "execution": {
     "iopub.execute_input": "2021-07-27T11:01:59.828559Z",
     "iopub.status.busy": "2021-07-27T11:01:59.827855Z",
     "iopub.status.idle": "2021-07-27T11:01:59.841100Z",
     "shell.execute_reply": "2021-07-27T11:01:59.840414Z",
     "shell.execute_reply.started": "2021-07-27T11:01:01.812676Z"
    },
    "papermill": {
     "duration": 0.036564,
     "end_time": "2021-07-27T11:01:59.841274",
     "exception": false,
     "start_time": "2021-07-27T11:01:59.804710",
     "status": "completed"
    },
    "tags": []
   },
   "outputs": [],
   "source": [
    "test_df[['ID', 'Severity']].to_csv('/kaggle/working/submission.csv', index=False)"
   ]
  },
  {
   "cell_type": "markdown",
   "id": "2c0abc4b",
   "metadata": {
    "papermill": {
     "duration": 0.019611,
     "end_time": "2021-07-27T11:01:59.881219",
     "exception": false,
     "start_time": "2021-07-27T11:01:59.861608",
     "status": "completed"
    },
    "tags": []
   },
   "source": [
    "The remaining steps is to submit the generated file and are as follows. \n",
    "\n",
    "1. Press `Save Version` on the upper right corner of this notebook.\n",
    "2. Write a `Version Name` of your choice and choose `Save & Run All (Commit)` then click `Save`.\n",
    "3. Wait for the saved notebook to finish running the go to the saved notebook.\n",
    "4. Scroll down until you see the output files then select the `submission.csv` file and click `Submit`.\n",
    "\n",
    "Now your submission will be evaluated and your score will be updated on the leaderboard! CONGRATULATIONS!!"
   ]
  },
  {
   "cell_type": "markdown",
   "id": "777b9f85",
   "metadata": {
    "papermill": {
     "duration": 0.020038,
     "end_time": "2021-07-27T11:01:59.921771",
     "exception": false,
     "start_time": "2021-07-27T11:01:59.901733",
     "status": "completed"
    },
    "tags": []
   },
   "source": [
    "## Conclusion\n",
    "\n",
    "In this notebook, we have demonstrated the essential steps that one should do in order to get \"slightly\" familiar with the data and the submission process. We chose not to go into details in each step to keep the welcoming notebook simple and make a room for improvement.\n",
    "\n",
    "You're encourged to `Fork` the notebook, edit it, add your insights and use it to create your submission."
   ]
  }
 ],
 "metadata": {
  "kernelspec": {
   "display_name": "Python 3",
   "language": "python",
   "name": "python3"
  },
  "language_info": {
   "codemirror_mode": {
    "name": "ipython",
    "version": 3
   },
   "file_extension": ".py",
   "mimetype": "text/x-python",
   "name": "python",
   "nbconvert_exporter": "python",
   "pygments_lexer": "ipython3",
   "version": "3.7.10"
  },
  "papermill": {
   "default_parameters": {},
   "duration": 12.843901,
   "end_time": "2021-07-27T11:02:01.283821",
   "environment_variables": {},
   "exception": null,
   "input_path": "__notebook__.ipynb",
   "output_path": "__notebook__.ipynb",
   "parameters": {},
   "start_time": "2021-07-27T11:01:48.439920",
   "version": "2.3.3"
  }
 },
 "nbformat": 4,
 "nbformat_minor": 5
}
